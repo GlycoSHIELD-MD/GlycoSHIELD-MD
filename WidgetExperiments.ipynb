{
 "cells": [
  {
   "cell_type": "markdown",
   "id": "4b791e64-1e01-41d0-bb2e-7bc121a58e2f",
   "metadata": {
    "tags": []
   },
   "source": [
    "# Simple Widget Examples"
   ]
  },
  {
   "cell_type": "markdown",
   "id": "02b44ee6-0e2b-4121-bc8b-4e1e9b41f8b2",
   "metadata": {},
   "source": [
    "## File Upload"
   ]
  },
  {
   "cell_type": "code",
   "execution_count": 11,
   "id": "401848e8-0cbe-412c-8dfd-6218221d8405",
   "metadata": {},
   "outputs": [],
   "source": [
    "import numpy as np"
   ]
  },
  {
   "cell_type": "code",
   "execution_count": 12,
   "id": "dfa5f816-3d4b-4298-ae5d-b8b1fbdb4088",
   "metadata": {},
   "outputs": [],
   "source": [
    "from ipywidgets import FileUpload\n",
    "from IPython.display import display"
   ]
  },
  {
   "cell_type": "code",
   "execution_count": 13,
   "id": "4eb433ca-cc54-4bb3-b15b-75125fa70f3f",
   "metadata": {},
   "outputs": [
    {
     "data": {
      "application/vnd.jupyter.widget-view+json": {
       "model_id": "7c7b97a66ac543e8a132e6cd4ccb2290",
       "version_major": 2,
       "version_minor": 0
      },
      "text/plain": [
       "FileUpload(value={}, accept='*', description='Upload', multiple=True)"
      ]
     },
     "metadata": {},
     "output_type": "display_data"
    }
   ],
   "source": [
    "uploader = FileUpload(accept='*', multiple=True)\n",
    "display(uploader)"
   ]
  },
  {
   "cell_type": "code",
   "execution_count": 15,
   "id": "cfca85c9-3c8a-4bbe-bdaa-b14572ba9717",
   "metadata": {},
   "outputs": [],
   "source": [
    "for filename in uploader.value:\n",
    "    with open(filename, 'wb') as fp:\n",
    "        fp.write(uploader.value[filename]['content'])"
   ]
  },
  {
   "cell_type": "code",
   "execution_count": null,
   "id": "fe0cb1a2-88b8-4aac-8e13-359b6b039d68",
   "metadata": {},
   "outputs": [],
   "source": []
  }
 ],
 "metadata": {
  "kernelspec": {
   "display_name": "Python 3",
   "language": "python",
   "name": "python3"
  },
  "language_info": {
   "codemirror_mode": {
    "name": "ipython",
    "version": 3
   },
   "file_extension": ".py",
   "mimetype": "text/x-python",
   "name": "python",
   "nbconvert_exporter": "python",
   "pygments_lexer": "ipython3",
   "version": "3.8.8"
  }
 },
 "nbformat": 4,
 "nbformat_minor": 5
}
