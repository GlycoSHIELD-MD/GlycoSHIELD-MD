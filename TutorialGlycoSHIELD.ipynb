{
 "cells": [
  {
   "cell_type": "markdown",
   "metadata": {
    "tags": []
   },
   "source": [
    "# GlycoSHIELD Tutorial"
   ]
  },
  {
   "cell_type": "code",
   "execution_count": 1,
   "metadata": {},
   "outputs": [],
   "source": [
    "%load_ext autoreload\n",
    "%autoreload 2"
   ]
  },
  {
   "cell_type": "markdown",
   "metadata": {},
   "source": [
    "This tutorial shows the basic functionality of GlycoSHIELD, GlycoTRAJ and GlycoSASA.\n",
    "\n",
    "### GlycoSHIELD\n",
    "First, we glycosylate a N-cadherin EC5 domain (EC5.pdb), which natively contains three gly- cosylation sites at positions 463, 492 and 533. In the tutorial, we will glycosylate the protein with high-mannose N-glycans (Man5) and visualise the span and shielding of the resulting sugar cover. The necessary glycan conformers are located in the GLYCAN_LIBRARY folder and include Man5.pdb (reference file) and Man5_dt1000.xtc (conformer library sampled at 1000ps intervals). \n",
    "\n",
    "Folders containing different glycans have to be downloaded by users to a local directory and unzipped prior to use. [THIS IS NOT REALLYNEEDED ANY MORE - WILL BE AUTO DOWNLOADED].\n",
    "\n",
    "The prepared input file (EC5_input) manages the glycan grafting:"
   ]
  },
  {
   "cell_type": "code",
   "execution_count": 39,
   "metadata": {},
   "outputs": [],
   "source": [
    "import warnings\n",
    "warnings.filterwarnings('ignore')\n",
    "\n",
    "import nglview as nv\n",
    "import MDAnalysis as mda\n",
    "import numpy as np\n",
    "\n",
    "from glycoshield.lib import glycoshield,glycotraj,glycosasa\n",
    "from glycoshield.NGL import NGL\n",
    "\n",
    "\n"
   ]
  },
  {
   "cell_type": "code",
   "execution_count": 41,
   "metadata": {},
   "outputs": [],
   "source": [
    "\n",
    "path=\"./tmp_files/\"\n",
    "tutorialpath=\"./TUTORIAL/\"\n",
    "input = '''#\n",
    "A 540,541,542 1,2,3 GLYCAN_LIBRARY/Man5.pdb GLYCAN_LIBRARY/Man5.xtc PATH/A_463.pdb PATH/A_463.xtc\n",
    "#A 491,492,493 1,2,3 GLYCAN_LIBRARY/Man5.pdb GLYCAN_LIBRARY/Man5.xtc PATH/A_492.pdb PATH/A_492.xtc\n",
    "#A 532,533,534 1,2,3 GLYCAN_LIBRARY/Man5.pdb GLYCAN_LIBRARY/Man5.xtc PATH/A_533.pdb PATH/A_533.xtc\n",
    "'''.replace(\"PATH/\",path)\n",
    "\n",
    "\n",
    "with open(path+\"input_sugaring\",'w') as f:\n",
    "    f.write(input)"
   ]
  },
  {
   "cell_type": "markdown",
   "metadata": {},
   "source": [
    "To graft glycans at the selected positions, run:"
   ]
  },
  {
   "cell_type": "code",
   "execution_count": 42,
   "metadata": {},
   "outputs": [
    {
     "name": "stderr",
     "output_type": "stream",
     "text": [
      "Structure 0 residue 541: 100%|██████████| 301/301 [00:00<00:00, 2228.81it/s]\n"
     ]
    },
    {
     "name": "stdout",
     "output_type": "stream",
     "text": [
      "[[29]]\n"
     ]
    }
   ],
   "source": [
    "gs = glycoshield(protpdb=tutorialpath+'EC5.pdb',protxtc=None,inputfile=path+'input_sugaring',path=path,skip=100)\n",
    "\n",
    "occupancy_single = gs.run()\n",
    "print(occupancy_single)"
   ]
  },
  {
   "cell_type": "markdown",
   "metadata": {},
   "source": [
    "The output states how many glycan frames were grafted at each site (in the same order as in the input file). If protein trajectory is given, this will be reported for each protein frame."
   ]
  },
  {
   "cell_type": "markdown",
   "metadata": {},
   "source": [
    "### Visualization\n",
    "Let's look at the grafted glycan shields:"
   ]
  },
  {
   "cell_type": "code",
   "execution_count": 5,
   "metadata": {},
   "outputs": [],
   "source": [
    "ngl=NGL(path=path)\n",
    "\n",
    "# How many glycan conformers to show? (reasonable performance if ~< 100)\n",
    "showglycanframes = 30\n",
    "\n",
    "# get the residues and chains:\n",
    "chainlist=gs.chainlist\n",
    "reslist=gs.reslist\n",
    "\n",
    "for (chain,resid) in zip(chainlist,reslist):\n",
    "    ngl.add_sugar(path+'{}_{}.pdb'.format(chain,resid),path+'{}_{}.xtc'.format(chain,resid),showglycanframes)\n",
    "\n",
    "    \n",
    "ngl.subsample()"
   ]
  },
  {
   "cell_type": "code",
   "execution_count": 6,
   "metadata": {},
   "outputs": [
    {
     "name": "stdout",
     "output_type": "stream",
     "text": [
      "#009392 1 A\n",
      "#687588 2 A\n",
      "#d0587e 3 A\n"
     ]
    },
    {
     "data": {
      "application/vnd.jupyter.widget-view+json": {
       "model_id": "9fc6182f2ce342ffba954402619484b2",
       "version_major": 2,
       "version_minor": 0
      },
      "text/plain": [
       "NGLWidget()"
      ]
     },
     "metadata": {},
     "output_type": "display_data"
    }
   ],
   "source": [
    "v1=ngl.build_representation()\n",
    "v1"
   ]
  },
  {
   "cell_type": "markdown",
   "metadata": {},
   "source": [
    "### Rejection rate vs. protein conformation\n",
    "If multiple conformations of the same protein are available, GlycoSHIELD can be used to estimate the entropic cost of geometrically blocking certain glycan conformers in each protein conformer. An artificial trajectory EC4_EC5.xtc with corresponding PDB file EC4_EC5.pdb can be used to visualise this functionality. In each consecutive frame, the angle between the two domains is decreased. \n",
    "\n",
    "\n",
    "\n",
    "See the input trajectory below:"
   ]
  },
  {
   "cell_type": "code",
   "execution_count": 7,
   "metadata": {
    "scrolled": true
   },
   "outputs": [
    {
     "data": {
      "application/vnd.jupyter.widget-view+json": {
       "model_id": "83424a12fa3b42c0b0e43e7e414e8450",
       "version_major": 2,
       "version_minor": 0
      },
      "text/plain": [
       "NGLWidget(max_frame=5)"
      ]
     },
     "metadata": {},
     "output_type": "display_data"
    }
   ],
   "source": [
    "u = mda.Universe(tutorialpath+'EC4_EC5.pdb',tutorialpath+'EC4_EC5.xtc')\n",
    "prot = u.select_atoms('protein')\n",
    "t = nv.MDAnalysisTrajectory(prot)\n",
    "w = nv.NGLWidget(t)\n",
    "w"
   ]
  },
  {
   "cell_type": "markdown",
   "metadata": {},
   "source": [
    "To monitor the number of accepted conformations, the following command should be issued:"
   ]
  },
  {
   "cell_type": "code",
   "execution_count": 10,
   "metadata": {},
   "outputs": [
    {
     "name": "stderr",
     "output_type": "stream",
     "text": [
      "Structure 0 residue 463: 100%|██████████| 3001/3001 [00:00<00:00, 3557.01it/s]\n",
      "Structure 0 residue 492: 100%|██████████| 3001/3001 [00:00<00:00, 3685.00it/s]\n",
      "Structure 0 residue 533: 100%|██████████| 3001/3001 [00:00<00:00, 3834.45it/s]\n",
      "Structure 1 residue 463: 100%|██████████| 3001/3001 [00:00<00:00, 3497.48it/s]\n",
      "Structure 1 residue 492: 100%|██████████| 3001/3001 [00:00<00:00, 3589.19it/s]\n",
      "Structure 1 residue 533: 100%|██████████| 3001/3001 [00:00<00:00, 4219.89it/s]\n",
      "Structure 2 residue 463: 100%|██████████| 3001/3001 [00:00<00:00, 3578.40it/s]\n",
      "Structure 2 residue 492: 100%|██████████| 3001/3001 [00:00<00:00, 3642.82it/s]\n",
      "Structure 2 residue 533: 100%|██████████| 3001/3001 [00:00<00:00, 4313.54it/s]\n",
      "Structure 3 residue 463: 100%|██████████| 3001/3001 [00:00<00:00, 3531.81it/s]\n",
      "Structure 3 residue 492: 100%|██████████| 3001/3001 [00:00<00:00, 3753.49it/s]\n",
      "Structure 3 residue 533: 100%|██████████| 3001/3001 [00:00<00:00, 4291.24it/s]\n",
      "Structure 4 residue 463: 100%|██████████| 3001/3001 [00:00<00:00, 3533.23it/s]\n",
      "Structure 4 residue 492: 100%|██████████| 3001/3001 [00:00<00:00, 3728.43it/s]\n",
      "Structure 4 residue 533: 100%|██████████| 3001/3001 [00:00<00:00, 4531.97it/s]\n",
      "Structure 5 residue 463: 100%|██████████| 3001/3001 [00:00<00:00, 3568.02it/s]\n",
      "Structure 5 residue 492: 100%|██████████| 3001/3001 [00:00<00:00, 3647.97it/s]\n",
      "Structure 5 residue 533: 100%|██████████| 3001/3001 [00:00<00:00, 4539.13it/s]"
     ]
    },
    {
     "name": "stdout",
     "output_type": "stream",
     "text": [
      "[[2645 2214 1695]\n",
      " [2645 2214  881]\n",
      " [2645 2214  633]\n",
      " [2645 2214  519]\n",
      " [2644 2210  179]\n",
      " [2645 2197  208]]\n"
     ]
    },
    {
     "name": "stderr",
     "output_type": "stream",
     "text": [
      "\n"
     ]
    }
   ],
   "source": [
    "# We make sure to set \"dryrun\" to True - disables production of an output trajectory and instead only displays the number of accepted frames.\n",
    "# We set \"ignorewarn\" to True, it ensures the grafting continues even if no conformers can be grafted\n",
    "gs_multi = glycoshield(protpdb=tutorialpath+'EC4_EC5.pdb',\n",
    "                 protxtc=tutorialpath+'EC4_EC5.xtc',\n",
    "                 inputfile=path+'input_sugaring',path=path,\n",
    "                 dryrun=True,\n",
    "                 ignorewarn=True)\n",
    "\n",
    "occupancy_multi = gs_multi.run()\n",
    "print(occupancy_multi)"
   ]
  },
  {
   "cell_type": "markdown",
   "metadata": {},
   "source": [
    "Knowing the number of all available frames (3000), the number of rejected frames can be then plotted for each sugar:"
   ]
  },
  {
   "cell_type": "code",
   "execution_count": 11,
   "metadata": {},
   "outputs": [
    {
     "data": {
      "text/plain": [
       "<matplotlib.legend.Legend at 0x7f37b989e810>"
      ]
     },
     "execution_count": 11,
     "metadata": {},
     "output_type": "execute_result"
    },
    {
     "data": {
      "image/png": "[encoded data removed]",
      "text/plain": [
       "<Figure size 432x288 with 1 Axes>"
      ]
     },
     "metadata": {},
     "output_type": "display_data"
    }
   ],
   "source": [
    "import numpy as np\n",
    "import matplotlib.pyplot as plt\n",
    "\n",
    "%matplotlib inline\n",
    "for ires in range(len(reslist)):\n",
    "    plt.plot(3000-occupancy_multi[:,ires],label='Gly {}'.format(reslist[ires]))\n",
    "plt.ylim(0,3000)\n",
    "plt.xlabel('frame')\n",
    "plt.ylabel('# rejected conformers')\n",
    "plt.legend()\n"
   ]
  },
  {
   "cell_type": "markdown",
   "metadata": {},
   "source": [
    "This illustrates that excessive bending of the inter-domain linker results in a rejection of the majority of the conformers and would be thus associated with significant entropic penalty."
   ]
  },
  {
   "cell_type": "markdown",
   "metadata": {},
   "source": [
    "### GlycoTRAJ\n",
    "In order to generate a single trajectory with all glycans mobile, the number of glycan conformers has to be adjusted to be the same across all glycosylation sites, in our first example, 1172 was the largest number of conformers present on all sites."
   ]
  },
  {
   "cell_type": "code",
   "execution_count": 8,
   "metadata": {},
   "outputs": [],
   "source": [
    "maxframe=np.min(occupancy_single[0]) \n",
    "pdblist=gs.pdblist\n",
    "xtclist=gs.xtclist\n",
    "chainlist=gs.chainlist\n",
    "reslist=gs.reslist\n",
    "# outname takes the desired root name of the output (the suffix '.xtc' and 'pdb' is appended automatically).\n",
    "outname=path+\"merged_traj\"\n",
    "\n",
    "glycotraj(maxframe,outname,pdblist,xtclist,chainlist,reslist,path=path)"
   ]
  },
  {
   "cell_type": "markdown",
   "metadata": {},
   "source": [
    "Visualization of the trajectory:"
   ]
  },
  {
   "cell_type": "code",
   "execution_count": 36,
   "metadata": {
    "scrolled": true
   },
   "outputs": [
    {
     "data": {
      "application/vnd.jupyter.widget-view+json": {
       "model_id": "b0eb7b4d32c145afa9962cca599c583c",
       "version_major": 2,
       "version_minor": 0
      },
      "text/plain": [
       "A Jupyter Widget"
      ]
     },
     "metadata": {},
     "output_type": "display_data"
    }
   ],
   "source": [
    "u = mda.Universe(path+'merged_traj.pdb',path+'merged_traj.xtc')\n",
    "t = nv.MDAnalysisTrajectory(u.atoms)\n",
    "w = nv.NGLWidget(t)\n",
    "w"
   ]
  },
  {
   "cell_type": "markdown",
   "metadata": {},
   "source": [
    "### GlycoSASA\n",
    "Trajectories containing multiple conformations of single glycans can be used to calculate the shielding score using:"
   ]
  },
  {
   "cell_type": "code",
   "execution_count": 9,
   "metadata": {},
   "outputs": [
    {
     "data": {
      "text/plain": [
       "<Figure size 432x288 with 0 Axes>"
      ]
     },
     "metadata": {},
     "output_type": "display_data"
    },
    {
     "data": {
      "image/png": "[encoded data removed]",
      "text/plain": [
       "<Figure size 936x504 with 1 Axes>"
      ]
     },
     "metadata": {
      "needs_background": "light"
     },
     "output_type": "display_data"
    }
   ],
   "source": [
    "maxframe=np.min(occupancy_single[0]) \n",
    "maxframe=10 # temporary\n",
    "pdblist=gs.pdblist\n",
    "xtclist=gs.xtclist\n",
    "probelist=[0.14] # Possibly user will have an option to choose one value, makes it faster and easier to manage visualisation\n",
    "plottrace=True\n",
    "ndots=15\n",
    "mode=\"max\"\n",
    "keepoutput=False\n",
    "\n",
    "sasas = glycosasa(pdblist=pdblist,xtclist=xtclist,plottrace=plottrace,\n",
    "          probelist=probelist,ndots=ndots,mode=mode,keepoutput=keepoutput,maxframe=maxframe,\n",
    "          path=path)\n",
    "\n",
    "# This will use 'maxframe' conformers of each glycan to calculate the shielding score. As an output, the user obtains a plot of shielding score along the protein sequence:\n",
    "\n"
   ]
  },
  {
   "cell_type": "markdown",
   "metadata": {},
   "source": [
    "In addition, a PDB file is created named “maxResidueSASA_probe_0.14.pdb”, where shielding has been encoded in the column holding the beta factor information. Here, 0.14 denote probe radius used for SASA calculation. A PDB occupancy column equals 0 if a given residue is not accessible at all. "
   ]
  },
  {
   "cell_type": "markdown",
   "metadata": {},
   "source": [
    "### Visualization of SASA\n",
    "Color intensity denotes shielding. Gray=inaccessible."
   ]
  },
  {
   "cell_type": "code",
   "execution_count": 40,
   "metadata": {},
   "outputs": [
    {
     "data": {
      "application/vnd.jupyter.widget-view+json": {
       "model_id": "7c5a101e673345b59c32970cb0d3220f",
       "version_major": 2,
       "version_minor": 0
      },
      "text/plain": [
       "A Jupyter Widget"
      ]
     },
     "metadata": {},
     "output_type": "display_data"
    }
   ],
   "source": [
    "from glycoshield.NGL import NGLSASA\n",
    "sasas=np.array(sasas)\n",
    "\n",
    "myprobe=0.14\n",
    "occupancy=sasas[sasas[:,4]==myprobe][0,5]\n",
    "residues=sasas[sasas[:,4]==myprobe][0,0]\n",
    "sasavis=NGLSASA(path=path,pdbfile='maxResidueSASA_probe_{}.pdb'.format(myprobe),occupancy=occupancy,residues=residues)\n",
    "v1=sasavis.build_representation()\n",
    "v1"
   ]
  },
  {
   "cell_type": "markdown",
   "metadata": {},
   "source": [
    "## Download of output files\n",
    "\n",
    "In the left sidebar of the JupyterLab GUI, please right-click the file you want to download and select *Download*."
   ]
  }
 ],
 "metadata": {
  "kernelspec": {
   "display_name": "Python 3",
   "language": "python",
   "name": "python3"
  },
  "language_info": {
   "codemirror_mode": {
    "name": "ipython",
    "version": 3
   },
   "file_extension": ".py",
   "mimetype": "text/x-python",
   "name": "python",
   "nbconvert_exporter": "python",
   "pygments_lexer": "ipython3",
   "version": "3.7.2"
  }
 },
 "nbformat": 4,
 "nbformat_minor": 5
}
