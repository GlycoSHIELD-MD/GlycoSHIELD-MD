{
 "cells": [
  {
   "cell_type": "markdown",
   "metadata": {
    "tags": []
   },
   "source": [
    "# GlycoSHIELD WebApp Prototype"
   ]
  },
  {
   "cell_type": "code",
   "execution_count": 1,
   "metadata": {},
   "outputs": [],
   "source": [
    "import numpy as np"
   ]
  },
  {
   "cell_type": "code",
   "execution_count": 40,
   "metadata": {},
   "outputs": [],
   "source": [
    "import ipywidgets as widgets\n",
    "from ipywidgets import Layout, Button, Box, VBox,HBox\n",
    "from ipywidgets import interact, interactive, fixed, interact_manual\n",
    "from IPython.display import display"
   ]
  },
  {
   "cell_type": "markdown",
   "metadata": {},
   "source": [
    "## Input File Upload"
   ]
  },
  {
   "cell_type": "code",
   "execution_count": 8,
   "metadata": {},
   "outputs": [
    {
     "data": {
      "application/vnd.jupyter.widget-view+json": {
       "model_id": "03cf91632a9e48ae8308eb7b0a50a09d",
       "version_major": 2,
       "version_minor": 0
      },
      "text/plain": [
       "FileUpload(value={}, accept='*', description='Upload', multiple=True)"
      ]
     },
     "metadata": {},
     "output_type": "display_data"
    }
   ],
   "source": [
    "uploader = widgets.FileUpload(accept='*', multiple=True)\n",
    "display(uploader)"
   ]
  },
  {
   "cell_type": "code",
   "execution_count": 4,
   "metadata": {},
   "outputs": [],
   "source": [
    "for filename in uploader.value:\n",
    "    with open(filename, 'wb') as fp:\n",
    "        fp.write(uploader.value[filename]['content'])"
   ]
  },
  {
   "cell_type": "markdown",
   "metadata": {},
   "source": [
    "## Computation"
   ]
  },
  {
   "cell_type": "markdown",
   "metadata": {},
   "source": [
    "Define inputs\n",
    "\n",
    "```\n",
    "A 462,463,464 1,2,3 GLYCAN_LIBRARY/Man5.pdb GLYCAN_LIBRARY/Man5_dt1000.xtc A_463.pdb A_463.xtc\n",
    "A 491,492,493 1,2,3 GLYCAN_LIBRARY/Man5.pdb GLYCAN_LIBRARY/Man5_dt1000.xtc A_492.pdb A_492.xtc\n",
    "```\n"
   ]
  },
  {
   "cell_type": "code",
   "execution_count": 38,
   "metadata": {},
   "outputs": [],
   "source": [
    "class GSwidgets:\n",
    "    def __init__(self):\n",
    "        self.chains=[\"A\",\"B\",\"C\"] # read out by mdanalysis\n",
    "        self.residues=[1,2,3] # unique of all resids in the pdb file\n",
    "        self.known_sugars=[\"Man5\"] # Defined by the table in SI\n",
    "        \n",
    "    def create_chain_button(self):\n",
    "        chain = widgets.Dropdown(\n",
    "            options=self.chains,\n",
    "            value=self.chains[0],\n",
    "            description='Chain:',\n",
    "            disabled=False,\n",
    "            continuous_update=True,\n",
    "        )\n",
    "        return chain\n",
    "    def create_residue_button(self):\n",
    "        residue = widgets.Dropdown(\n",
    "            options=self.residues,\n",
    "            value=self.residues[0],\n",
    "            description='Residue:',\n",
    "            disabled=False,\n",
    "            continuous_update=True,\n",
    "        )\n",
    "    def create_glycan_button(self):\n",
    "        sugar = widgets.Dropdown(\n",
    "            options=self.known_sugars,\n",
    "            value=self.known_sugars[0],\n",
    "            description='Glycan:',\n",
    "            disabled=False,\n",
    "            continuous_update=True,\n",
    "        )\n",
    "        return sugar\n",
    "    \n",
    "    def create_sampling_button(self):\n",
    "        sampling = widgets.Dropdown(\n",
    "            options=[200,1000],\n",
    "            value=1000,\n",
    "            description='Sampling:',\n",
    "            disabled=False,\n",
    "            continuous_update=True,\n",
    "        )\n",
    "        return sampling\n",
    " \n"
   ]
  },
  {
   "cell_type": "code",
   "execution_count": 49,
   "metadata": {},
   "outputs": [
    {
     "data": {
      "application/vnd.jupyter.widget-view+json": {
       "model_id": "530b5b4b7c9c45c884a1b026ea75e691",
       "version_major": 2,
       "version_minor": 0
      },
      "text/plain": [
       "HBox(children=(Text(value='', description='How many sugars to add:'), Button(description='OK', style=ButtonSty…"
      ]
     },
     "metadata": {},
     "output_type": "display_data"
    }
   ],
   "source": [
    "# Here the idea will be to dynamically create user input fields. Either user selects No of sugars or there is a \"add sugar\" button. Either way it dynamically creates N rows of input fields\n",
    "\n",
    "wg=GSwidgets()\n",
    "button = widgets.Button(description=\"OK\")\n",
    "inp = widgets.Text(description='How many sugars to add:')\n",
    "Box = widgets.HBox([inp,button])\n",
    "\n",
    "def on_button_clicked(b):\n",
    "    boxes=[]\n",
    "    for sugar in range(int(inp.value)):\n",
    "        b=wg.create_chain_button()\n",
    "        boxes.append(HBox([b]))\n",
    "    VBox(boxes)\n",
    "button.on_click(on_button_clicked)\n",
    "Box\n",
    "# Ideas:\n",
    "# https://stackoverflow.com/questions/37144216/ipywidgets-update-one-widget-based-on-results-from-another"
   ]
  },
  {
   "cell_type": "code",
   "execution_count": null,
   "metadata": {},
   "outputs": [],
   "source": []
  },
  {
   "cell_type": "code",
   "execution_count": 43,
   "metadata": {},
   "outputs": [
    {
     "data": {
      "application/vnd.jupyter.widget-view+json": {
       "model_id": "1373d5c2c59f434c997b3cf74a9352ca",
       "version_major": 2,
       "version_minor": 0
      },
      "text/plain": [
       "HBox(children=(Button(description='Click Me!', style=ButtonStyle()), Text(value='', description='text:')))"
      ]
     },
     "metadata": {},
     "output_type": "display_data"
    },
    {
     "name": "stdout",
     "output_type": "stream",
     "text": [
      "['a']\n"
     ]
    }
   ],
   "source": [
    "button = widgets.Button(description=\"Click Me!\")\n",
    "inp = widgets.Text(description='text:')\n",
    "Box = widgets.HBox([button,inp])\n",
    "\n",
    "value_list = []\n",
    "\n",
    "def on_button_clicked(b):\n",
    "    value_list.append(inp.value)\n",
    "    print(value_list)\n",
    "\n",
    "button.on_click(on_button_clicked)\n",
    "Box"
   ]
  },
  {
   "cell_type": "code",
   "execution_count": 34,
   "metadata": {},
   "outputs": [
    {
     "data": {
      "application/vnd.jupyter.widget-view+json": {
       "model_id": "577505782c364adbb46d5760c9d4d970",
       "version_major": 2,
       "version_minor": 0
      },
      "text/plain": [
       "VBox(children=(HBox(children=(Dropdown(description='Chain:', options=('A', 'B', 'C'), value='A'), Dropdown(des…"
      ]
     },
     "metadata": {},
     "output_type": "display_data"
    }
   ],
   "source": [
    "VBox([HBox([chain,residue,sugar,sampling]),HBox([chain,residue,sugar,sampling])])\n"
   ]
  },
  {
   "cell_type": "code",
   "execution_count": null,
   "metadata": {},
   "outputs": [],
   "source": [
    "# glycoshield including gmx computation ...\n",
    "\n"
   ]
  },
  {
   "cell_type": "markdown",
   "metadata": {},
   "source": [
    "## Visualization"
   ]
  },
  {
   "cell_type": "code",
   "execution_count": 3,
   "metadata": {},
   "outputs": [],
   "source": [
    "# At the moment it uses preexisting files in the tmp_files folder\n",
    "\n",
    "from glycoshield.NGL import NGL\n",
    "path=\"./tmp_files/\"\n",
    "ngl=NGL(path=path)\n",
    "ngl.add_sugar(path+'S_463.pdb',path+'S_463.xtc',20)\n",
    "ngl.add_sugar(path+'S_492.pdb',path+'S_492.xtc',20)\n",
    "ngl.add_sugar(path+'S_533.pdb',path+'S_533.xtc',20)\n",
    "ngl.subsample()"
   ]
  },
  {
   "cell_type": "code",
   "execution_count": 4,
   "metadata": {},
   "outputs": [
    {
     "ename": "NameError",
     "evalue": "name 'os' is not defined",
     "output_type": "error",
     "traceback": [
      "\u001b[0;31m---------------------------------------------------------------------------\u001b[0m",
      "\u001b[0;31mNameError\u001b[0m                                 Traceback (most recent call last)",
      "\u001b[0;32m<ipython-input-4-8333bc4cc55e>\u001b[0m in \u001b[0;36m<module>\u001b[0;34m\u001b[0m\n\u001b[0;32m----> 1\u001b[0;31m \u001b[0mv1\u001b[0m\u001b[0;34m=\u001b[0m\u001b[0mngl\u001b[0m\u001b[0;34m.\u001b[0m\u001b[0mbuild_representation\u001b[0m\u001b[0;34m(\u001b[0m\u001b[0;34m)\u001b[0m\u001b[0;34m\u001b[0m\u001b[0;34m\u001b[0m\u001b[0m\n\u001b[0m\u001b[1;32m      2\u001b[0m \u001b[0mv1\u001b[0m\u001b[0;34m\u001b[0m\u001b[0;34m\u001b[0m\u001b[0m\n",
      "\u001b[0;32m~/COLLAB_CYRIL1/WEBAPP/glycoshield-md/glycoshield/NGL.py\u001b[0m in \u001b[0;36mbuild_representation\u001b[0;34m(self)\u001b[0m\n\u001b[1;32m     94\u001b[0m             \u001b[0msugarcolor\u001b[0m\u001b[0;34m=\u001b[0m\u001b[0mlg\u001b[0m\u001b[0;34m[\u001b[0m\u001b[0;34m'hex'\u001b[0m\u001b[0;34m]\u001b[0m\u001b[0;34m\u001b[0m\u001b[0;34m\u001b[0m\u001b[0m\n\u001b[1;32m     95\u001b[0m \u001b[0;34m\u001b[0m\u001b[0m\n\u001b[0;32m---> 96\u001b[0;31m         \u001b[0mv1\u001b[0m \u001b[0;34m=\u001b[0m \u001b[0mnglview\u001b[0m\u001b[0;34m.\u001b[0m\u001b[0mNGLWidget\u001b[0m\u001b[0;34m(\u001b[0m\u001b[0;34m)\u001b[0m\u001b[0;34m\u001b[0m\u001b[0;34m\u001b[0m\u001b[0m\n\u001b[0m\u001b[1;32m     97\u001b[0m         \u001b[0mcomponent\u001b[0m \u001b[0;34m=\u001b[0m \u001b[0mv1\u001b[0m\u001b[0;34m.\u001b[0m\u001b[0madd_component\u001b[0m\u001b[0;34m(\u001b[0m\u001b[0mnglview\u001b[0m\u001b[0;34m.\u001b[0m\u001b[0mFileStructure\u001b[0m\u001b[0;34m(\u001b[0m\u001b[0mos\u001b[0m\u001b[0;34m.\u001b[0m\u001b[0mpath\u001b[0m\u001b[0;34m.\u001b[0m\u001b[0mjoin\u001b[0m\u001b[0;34m(\u001b[0m\u001b[0mself\u001b[0m\u001b[0;34m.\u001b[0m\u001b[0mpath\u001b[0m\u001b[0;34m,\u001b[0m \u001b[0;34m'tmp_prot.pdb'\u001b[0m\u001b[0;34m)\u001b[0m\u001b[0;34m)\u001b[0m\u001b[0;34m,\u001b[0m\u001b[0mdefault_representation\u001b[0m\u001b[0;34m=\u001b[0m\u001b[0;32mFalse\u001b[0m\u001b[0;34m)\u001b[0m\u001b[0;34m\u001b[0m\u001b[0;34m\u001b[0m\u001b[0m\n\u001b[1;32m     98\u001b[0m         \u001b[0mcomponents\u001b[0m\u001b[0;34m.\u001b[0m\u001b[0mappend\u001b[0m\u001b[0;34m(\u001b[0m\u001b[0mcomponent\u001b[0m\u001b[0;34m)\u001b[0m\u001b[0;34m\u001b[0m\u001b[0;34m\u001b[0m\u001b[0m\n",
      "\u001b[0;31mNameError\u001b[0m: name 'os' is not defined"
     ]
    }
   ],
   "source": [
    "v1=ngl.build_representation()\n",
    "v1"
   ]
  },
  {
   "cell_type": "code",
   "execution_count": 21,
   "metadata": {},
   "outputs": [
    {
     "name": "stdout",
     "output_type": "stream",
     "text": [
      "3.0.3 7.6.5\n"
     ]
    }
   ],
   "source": [
    "import nglview\n",
    "import ipywidgets\n",
    "print(nglview.__version__,ipywidgets.__version__)"
   ]
  },
  {
   "cell_type": "markdown",
   "metadata": {},
   "source": [
    "## Download of output files\n",
    "\n",
    "In the left sidebar of the JupyterLab GUI, please right-click the file you want to download and select *Download*."
   ]
  },
  {
   "cell_type": "code",
   "execution_count": 13,
   "metadata": {},
   "outputs": [],
   "source": [
    "# A solution to have download buttons:\n",
    "# https://stackoverflow.com/questions/61708701/how-to-download-a-file-using-ipywidget-button"
   ]
  }
 ],
 "metadata": {
  "kernelspec": {
   "display_name": "Python 3",
   "language": "python",
   "name": "python3"
  },
  "language_info": {
   "codemirror_mode": {
    "name": "ipython",
    "version": 3
   },
   "file_extension": ".py",
   "mimetype": "text/x-python",
   "name": "python",
   "nbconvert_exporter": "python",
   "pygments_lexer": "ipython3",
   "version": "3.7.2"
  }
 },
 "nbformat": 4,
 "nbformat_minor": 5
}
