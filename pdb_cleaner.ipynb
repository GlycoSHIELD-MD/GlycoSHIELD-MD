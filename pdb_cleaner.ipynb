{
 "cells": [
  {
   "cell_type": "code",
   "execution_count": 1,
   "id": "b3ea723e",
   "metadata": {},
   "outputs": [
    {
     "data": {
      "application/vnd.jupyter.widget-view+json": {
       "model_id": "f36609eaaca14b15a8683a0935f56f36",
       "version_major": 2,
       "version_minor": 0
      },
      "text/plain": []
     },
     "metadata": {},
     "output_type": "display_data"
    },
    {
     "name": "stderr",
     "output_type": "stream",
     "text": [
      "/home/matt/anaconda2/envs/mdanalysispython3/lib/python3.9/site-packages/MDAnalysis/coordinates/chemfiles.py:108: DeprecationWarning: distutils Version classes are deprecated. Use packaging.version instead.\n",
      "  MIN_CHEMFILES_VERSION = LooseVersion(\"0.9\")\n"
     ]
    }
   ],
   "source": [
    "%load_ext autoreload\n",
    "%autoreload 2\n",
    "import warnings\n",
    "warnings.filterwarnings('ignore')\n",
    "\n",
    "import nglview as nv\n",
    "import MDAnalysis as mda\n",
    "import numpy as np\n",
    "\n",
    "from glycoshield.lib import glycoshield,glycotraj,glycosasa\n",
    "from glycoshield.NGL import NGL"
   ]
  },
  {
   "cell_type": "markdown",
   "id": "4fea93e5",
   "metadata": {},
   "source": [
    "Script to clean up pdb files so that they do not contain the SEGID but instead only chain info."
   ]
  },
  {
   "cell_type": "code",
   "execution_count": 43,
   "id": "d72faa4d",
   "metadata": {},
   "outputs": [],
   "source": [
    "tmpfile='tmp.pdb'\n",
    "def clean_segid(pdbfile,outfile):\n",
    "    \"\"\"Remove SEGID field (confuses mdanalysis) and keep only ATOM lines\"\"\"\n",
    "    output=open(outfile,'w')\n",
    "    with open(pdbfile) as f:\n",
    "        for line in f:\n",
    "            if 'ATOM' in line[:5]:\n",
    "                segid=line[71:75]\n",
    "                if segid.isspace():\n",
    "                    output.write(line)\n",
    "                else:\n",
    "                    tline=list(line)\n",
    "                    for char in [72,73,74,75]:\n",
    "                        tline[char]=\" \"\n",
    "                    output.write(''.join(tline))\n",
    "\n",
    "    output.close()\n",
    "    \n",
    "    \n",
    "ifile='7yrq.pdb'\n",
    "ofile='7yrq_c.pdb'\n",
    "clean_segid(ifile,ofile)"
   ]
  },
  {
   "cell_type": "code",
   "execution_count": 6,
   "id": "2542d27d",
   "metadata": {},
   "outputs": [
    {
     "name": "stdout",
     "output_type": "stream",
     "text": [
      "<Atom 38854: O of type O of resname HOH, resid 10771 and segid ZA and altLoc >\n"
     ]
    }
   ],
   "source": [
    "print(pp.atoms[-1])"
   ]
  }
 ],
 "metadata": {
  "kernelspec": {
   "display_name": "Python 3 (ipykernel)",
   "language": "python",
   "name": "python3"
  },
  "language_info": {
   "codemirror_mode": {
    "name": "ipython",
    "version": 3
   },
   "file_extension": ".py",
   "mimetype": "text/x-python",
   "name": "python",
   "nbconvert_exporter": "python",
   "pygments_lexer": "ipython3",
   "version": "3.9.10"
  }
 },
 "nbformat": 4,
 "nbformat_minor": 5
}
