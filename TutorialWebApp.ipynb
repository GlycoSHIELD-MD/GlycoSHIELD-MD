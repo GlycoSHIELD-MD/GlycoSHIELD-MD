{
 "cells": [
  {
   "cell_type": "markdown",
   "metadata": {
    "tags": []
   },
   "source": [
    "# GlycoSHIELD WebApp Prototype"
   ]
  },
  {
   "cell_type": "code",
   "execution_count": 12,
   "metadata": {},
   "outputs": [],
   "source": [
    "%load_ext autoreload\n",
    "%autoreload 2"
   ]
  },
  {
   "cell_type": "code",
   "execution_count": 1,
   "metadata": {},
   "outputs": [],
   "source": [
    "import numpy as np"
   ]
  },
  {
   "cell_type": "code",
   "execution_count": 2,
   "metadata": {},
   "outputs": [],
   "source": [
    "import ipywidgets as widgets\n",
    "from ipywidgets import Layout, Button, Box, VBox,HBox\n",
    "from ipywidgets import interact, interactive, fixed, interact_manual\n",
    "from IPython.display import display"
   ]
  },
  {
   "cell_type": "markdown",
   "metadata": {},
   "source": [
    "## Input File Upload"
   ]
  },
  {
   "cell_type": "code",
   "execution_count": 3,
   "metadata": {},
   "outputs": [
    {
     "data": {
      "application/vnd.jupyter.widget-view+json": {
       "model_id": "fc244f6878aa4635b1db3d1a3e1aec04",
       "version_major": 2,
       "version_minor": 0
      },
      "text/plain": [
       "FileUpload(value={}, accept='*', description='Upload', multiple=True)"
      ]
     },
     "metadata": {},
     "output_type": "display_data"
    }
   ],
   "source": [
    "uploader = widgets.FileUpload(accept='*', multiple=True)\n",
    "display(uploader)"
   ]
  },
  {
   "cell_type": "code",
   "execution_count": 108,
   "metadata": {},
   "outputs": [],
   "source": [
    "for filename in uploader.value:\n",
    "    with open(filename, 'wb') as fp:\n",
    "        fp.write(uploader.value[filename]['content'])"
   ]
  },
  {
   "cell_type": "markdown",
   "metadata": {},
   "source": [
    "## Computation"
   ]
  },
  {
   "cell_type": "markdown",
   "metadata": {},
   "source": [
    "Define inputs\n",
    "\n",
    "\n"
   ]
  },
  {
   "cell_type": "code",
   "execution_count": 44,
   "metadata": {},
   "outputs": [],
   "source": [
    "input = '''#\n",
    "A 462,463,464 1,2,3 TUTORIAL/GLYCAN_LIBRARY/Man5.pdb TUTORIAL/GLYCAN_LIBRARY/Man5_dt1000.xtc A_463.pdb A_463.xtc\n",
    "A 491,492,493 1,2,3 TUTORIAL/GLYCAN_LIBRARY/Man5.pdb TUTORIAL/GLYCAN_LIBRARY/Man5_dt1000.xtc A_492.pdb A_492.xtc\n",
    "'''"
   ]
  },
  {
   "cell_type": "markdown",
   "metadata": {},
   "source": [
    "TODO: \n",
    "* output file names A_463.pdb etc. are somehow bound to the protein chain, used later by glycoTRAJ. This should be fixed (prefix added automatically?)\n",
    "* sequon numbers 462,463,464 and 1,2,3 -> for this version it shoul be just the central number, the rest is used by an undocumented option.\n",
    "* Output should write into tmp_files, all of it.\n",
    "* There should be more glycans available, fetched from ZENODO upon creation of the environment on binder\n",
    "* Glycans should be defined as a dropdown.\n",
    "* Whole input file should be written by a form, not by hand"
   ]
  },
  {
   "cell_type": "code",
   "execution_count": 45,
   "metadata": {},
   "outputs": [],
   "source": [
    "path=\"./tmp_files/\""
   ]
  },
  {
   "cell_type": "code",
   "execution_count": 46,
   "metadata": {},
   "outputs": [],
   "source": [
    "with open(path+\"input_sugaring\",'w') as f:\n",
    "    f.write(input)\n"
   ]
  },
  {
   "cell_type": "markdown",
   "metadata": {},
   "source": [
    "python ../GlycoSHIELD-0.1.py --protpdb EC5.pdb --inputfile EC5_input --threshold 3.5 --mode CG --shuffle-sugar\n"
   ]
  },
  {
   "cell_type": "code",
   "execution_count": 112,
   "metadata": {},
   "outputs": [],
   "source": [
    "from glycoshield.lib import glycoshield"
   ]
  },
  {
   "cell_type": "code",
   "execution_count": 113,
   "metadata": {},
   "outputs": [],
   "source": [
    "gs = glycoshield(protpdb=path+'EC5.pdb',protxtc=None,inputfile=path+'input_sugaring')"
   ]
  },
  {
   "cell_type": "code",
   "execution_count": 114,
   "metadata": {},
   "outputs": [
    {
     "name": "stderr",
     "output_type": "stream",
     "text": [
      "Structure 0 residue 463: 100%|██████████| 3001/3001 [00:01<00:00, 2403.77it/s]\n",
      "Structure 0 residue 492: 100%|██████████| 3001/3001 [00:01<00:00, 2608.73it/s]\n"
     ]
    },
    {
     "name": "stdout",
     "output_type": "stream",
     "text": [
      "0 2619 1172\n"
     ]
    }
   ],
   "source": [
    "gs.run()"
   ]
  },
  {
   "cell_type": "code",
   "execution_count": 109,
   "metadata": {},
   "outputs": [],
   "source": [
    "class GSwidgets:\n",
    "    def __init__(self):\n",
    "        self.chains=[\"A\",\"B\",\"C\"] # read out by mdanalysis\n",
    "        self.residues=[1,2,3] # unique of all resids in the pdb file\n",
    "        self.known_sugars=[\"Man5\"] # Defined by the table in SI\n",
    "        \n",
    "    def create_chain_button(self):\n",
    "        chain = widgets.Dropdown(\n",
    "            options=self.chains,\n",
    "            value=self.chains[0],\n",
    "            description='Chain:',\n",
    "            disabled=False,\n",
    "            continuous_update=True,\n",
    "        )\n",
    "        return chain\n",
    "    def create_residue_button(self):\n",
    "        residue = widgets.Dropdown(\n",
    "            options=self.residues,\n",
    "            value=self.residues[0],\n",
    "            description='Residue:',\n",
    "            disabled=False,\n",
    "            continuous_update=True,\n",
    "        )\n",
    "    def create_glycan_button(self):\n",
    "        sugar = widgets.Dropdown(\n",
    "            options=self.known_sugars,\n",
    "            value=self.known_sugars[0],\n",
    "            description='Glycan:',\n",
    "            disabled=False,\n",
    "            continuous_update=True,\n",
    "        )\n",
    "        return sugar\n",
    "    \n",
    "    def create_sampling_button(self):\n",
    "        sampling = widgets.Dropdown(\n",
    "            options=[200,1000],\n",
    "            value=1000,\n",
    "            description='Sampling:',\n",
    "            disabled=False,\n",
    "            continuous_update=True,\n",
    "        )\n",
    "        return sampling\n",
    " \n"
   ]
  },
  {
   "cell_type": "code",
   "execution_count": 110,
   "metadata": {},
   "outputs": [
    {
     "data": {
      "application/vnd.jupyter.widget-view+json": {
       "model_id": "dea0261efd044b57b2caff301b13b7c8",
       "version_major": 2,
       "version_minor": 0
      },
      "text/plain": [
       "HBox(children=(Text(value='', description='How many sugars to add:'), Button(description='OK', style=ButtonSty…"
      ]
     },
     "metadata": {},
     "output_type": "display_data"
    }
   ],
   "source": [
    "# Here the idea will be to dynamically create user input fields. Either user selects No of sugars or there is a \"add sugar\" button. Either way it dynamically creates N rows of input fields\n",
    "\n",
    "wg=GSwidgets()\n",
    "button = widgets.Button(description=\"OK\")\n",
    "inp = widgets.Text(description='How many sugars to add:')\n",
    "Box = widgets.HBox([inp,button])\n",
    "\n",
    "def on_button_clicked(b):\n",
    "    boxes=[]\n",
    "    for sugar in range(int(inp.value)):\n",
    "        b=wg.create_chain_button()\n",
    "        boxes.append(HBox([b]))\n",
    "    VBox(boxes)\n",
    "button.on_click(on_button_clicked)\n",
    "Box\n",
    "# Ideas:\n",
    "# https://stackoverflow.com/questions/37144216/ipywidgets-update-one-widget-based-on-results-from-another"
   ]
  },
  {
   "cell_type": "code",
   "execution_count": null,
   "metadata": {},
   "outputs": [],
   "source": []
  },
  {
   "cell_type": "code",
   "execution_count": 111,
   "metadata": {},
   "outputs": [
    {
     "data": {
      "application/vnd.jupyter.widget-view+json": {
       "model_id": "e7e1c5c7ebf646469e8d4fd7dc82dba4",
       "version_major": 2,
       "version_minor": 0
      },
      "text/plain": [
       "HBox(children=(Button(description='Click Me!', style=ButtonStyle()), Text(value='', description='text:')))"
      ]
     },
     "metadata": {},
     "output_type": "display_data"
    },
    {
     "name": "stdout",
     "output_type": "stream",
     "text": [
      "['']\n"
     ]
    }
   ],
   "source": [
    "button = widgets.Button(description=\"Click Me!\")\n",
    "inp = widgets.Text(description='text:')\n",
    "Box = widgets.HBox([button,inp])\n",
    "\n",
    "value_list = []\n",
    "\n",
    "def on_button_clicked(b):\n",
    "    value_list.append(inp.value)\n",
    "    print(value_list)\n",
    "\n",
    "button.on_click(on_button_clicked)\n",
    "Box"
   ]
  },
  {
   "cell_type": "code",
   "execution_count": 34,
   "metadata": {},
   "outputs": [
    {
     "data": {
      "application/vnd.jupyter.widget-view+json": {
       "model_id": "577505782c364adbb46d5760c9d4d970",
       "version_major": 2,
       "version_minor": 0
      },
      "text/plain": [
       "VBox(children=(HBox(children=(Dropdown(description='Chain:', options=('A', 'B', 'C'), value='A'), Dropdown(des…"
      ]
     },
     "metadata": {},
     "output_type": "display_data"
    }
   ],
   "source": [
    "VBox([HBox([chain,residue,sugar,sampling]),HBox([chain,residue,sugar,sampling])])\n"
   ]
  },
  {
   "cell_type": "code",
   "execution_count": null,
   "metadata": {},
   "outputs": [],
   "source": [
    "# glycoshield including gmx computation ...\n",
    "\n"
   ]
  },
  {
   "cell_type": "markdown",
   "metadata": {},
   "source": [
    "## Visualization"
   ]
  },
  {
   "cell_type": "code",
   "execution_count": 7,
   "metadata": {},
   "outputs": [
    {
     "data": {
      "application/vnd.jupyter.widget-view+json": {
       "model_id": "ddf47e7e7d5e4383ac5ab54c2dd2f1dc",
       "version_major": 2,
       "version_minor": 0
      },
      "text/plain": []
     },
     "metadata": {},
     "output_type": "display_data"
    },
    {
     "name": "stderr",
     "output_type": "stream",
     "text": [
      "/home/masikora/anaconda2/envs/my_root/lib/python3.7/site-packages/MDAnalysis/lib/mdamath.py:279: RuntimeWarning: invalid value encountered in double_scalars\n",
      "  alpha = np.rad2deg(np.arccos(np.dot(y, z) / (ly * lz)))\n",
      "/home/masikora/anaconda2/envs/my_root/lib/python3.7/site-packages/MDAnalysis/lib/mdamath.py:280: RuntimeWarning: invalid value encountered in double_scalars\n",
      "  beta = np.rad2deg(np.arccos(np.dot(x, z) / (lx * lz)))\n",
      "/home/masikora/anaconda2/envs/my_root/lib/python3.7/site-packages/MDAnalysis/lib/mdamath.py:281: RuntimeWarning: invalid value encountered in double_scalars\n",
      "  gamma = np.rad2deg(np.arccos(np.dot(x, y) / (lx * ly)))\n",
      "/home/masikora/anaconda2/envs/my_root/lib/python3.7/site-packages/MDAnalysis/coordinates/PDB.py:747: UserWarning: Unit cell dimensions not found. CRYST1 record set to unitary values.\n",
      "  warnings.warn(\"Unit cell dimensions not found. \"\n"
     ]
    }
   ],
   "source": [
    "# At the moment it uses preexisting files in the tmp_files folder\n",
    "\n",
    "from glycoshield.NGL import NGL\n",
    "path=\"./tmp_files/\"\n",
    "ngl=NGL(path=path)\n",
    "ngl.add_sugar(path+'S_463.pdb',path+'S_463.xtc',20)\n",
    "ngl.add_sugar(path+'S_492.pdb',path+'S_492.xtc',20)\n",
    "ngl.add_sugar(path+'S_533.pdb',path+'S_533.xtc',20)\n",
    "ngl.subsample()"
   ]
  },
  {
   "cell_type": "code",
   "execution_count": 8,
   "metadata": {},
   "outputs": [
    {
     "name": "stdout",
     "output_type": "stream",
     "text": [
      "#009392 1 A\n",
      "#687588 2 A\n",
      "#d0587e 3 A\n"
     ]
    },
    {
     "data": {
      "application/vnd.jupyter.widget-view+json": {
       "model_id": "ea33b7e382c54051b9d1b29bae86231d",
       "version_major": 2,
       "version_minor": 0
      },
      "text/plain": [
       "NGLWidget()"
      ]
     },
     "metadata": {},
     "output_type": "display_data"
    }
   ],
   "source": [
    "v1=ngl.build_representation()\n",
    "v1"
   ]
  },
  {
   "cell_type": "code",
   "execution_count": 21,
   "metadata": {},
   "outputs": [
    {
     "name": "stdout",
     "output_type": "stream",
     "text": [
      "3.0.3 7.6.5\n"
     ]
    }
   ],
   "source": [
    "import nglview\n",
    "import ipywidgets\n",
    "print(nglview.__version__,ipywidgets.__version__)"
   ]
  },
  {
   "cell_type": "markdown",
   "metadata": {},
   "source": [
    "## Download of output files\n",
    "\n",
    "In the left sidebar of the JupyterLab GUI, please right-click the file you want to download and select *Download*."
   ]
  },
  {
   "cell_type": "code",
   "execution_count": 13,
   "metadata": {},
   "outputs": [],
   "source": [
    "# A solution to have download buttons:\n",
    "# https://stackoverflow.com/questions/61708701/how-to-download-a-file-using-ipywidget-button"
   ]
  }
 ],
 "metadata": {
  "kernelspec": {
   "display_name": "Python 3",
   "language": "python",
   "name": "python3"
  },
  "language_info": {
   "codemirror_mode": {
    "name": "ipython",
    "version": 3
   },
   "file_extension": ".py",
   "mimetype": "text/x-python",
   "name": "python",
   "nbconvert_exporter": "python",
   "pygments_lexer": "ipython3",
   "version": "3.7.2"
  }
 },
 "nbformat": 4,
 "nbformat_minor": 5
}
