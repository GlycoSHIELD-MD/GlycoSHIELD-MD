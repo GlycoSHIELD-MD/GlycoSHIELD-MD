{
 "cells": [
  {
   "cell_type": "markdown",
   "id": "ad9c1f8c",
   "metadata": {
    "tags": []
   },
   "source": [
    "# GlycoSHIELD WebApp Prototype"
   ]
  },
  {
   "cell_type": "code",
   "execution_count": 1,
   "id": "92d84772",
   "metadata": {},
   "outputs": [],
   "source": [
    "%load_ext autoreload\n",
    "%autoreload 2"
   ]
  },
  {
   "cell_type": "code",
   "execution_count": 2,
   "id": "81c5e099",
   "metadata": {},
   "outputs": [],
   "source": [
    "import numpy as np\n",
    "import matplotlib\n",
    "\n",
    "%matplotlib inline"
   ]
  },
  {
   "cell_type": "code",
   "execution_count": 3,
   "id": "775be5b6",
   "metadata": {},
   "outputs": [],
   "source": [
    "import ipywidgets as widgets\n",
    "from ipywidgets import Layout, Button, Box, VBox,HBox\n",
    "from ipywidgets import interact, interactive, fixed, interact_manual\n",
    "from IPython.display import display"
   ]
  },
  {
   "cell_type": "code",
   "execution_count": 4,
   "id": "fb692e87",
   "metadata": {},
   "outputs": [],
   "source": [
    "import warnings\n",
    "warnings.filterwarnings('ignore')"
   ]
  },
  {
   "cell_type": "markdown",
   "id": "95e9cd3f",
   "metadata": {},
   "source": [
    "## Input File Upload"
   ]
  },
  {
   "cell_type": "code",
   "execution_count": 5,
   "id": "cfa3c274",
   "metadata": {},
   "outputs": [
    {
     "data": {
      "application/vnd.jupyter.widget-view+json": {
       "model_id": "b6d1da95a5ef4afb88fb842eedc27f93",
       "version_major": 2,
       "version_minor": 0
      },
      "text/plain": [
       "FileUpload(value={}, accept='*', description='Upload', multiple=True)"
      ]
     },
     "metadata": {},
     "output_type": "display_data"
    }
   ],
   "source": [
    "uploader = widgets.FileUpload(accept='*', multiple=True)\n",
    "display(uploader)"
   ]
  },
  {
   "cell_type": "code",
   "execution_count": 6,
   "id": "1bfaf68e",
   "metadata": {},
   "outputs": [],
   "source": [
    "for filename in uploader.value:\n",
    "    with open(filename, 'wb') as fp:\n",
    "        fp.write(uploader.value[filename]['content'])"
   ]
  },
  {
   "cell_type": "markdown",
   "id": "73382c8e",
   "metadata": {},
   "source": [
    "## Computation"
   ]
  },
  {
   "cell_type": "markdown",
   "id": "540206e1",
   "metadata": {},
   "source": [
    "Define inputs\n",
    "\n",
    "\n"
   ]
  },
  {
   "cell_type": "code",
   "execution_count": 7,
   "id": "5edd4e6f",
   "metadata": {},
   "outputs": [],
   "source": [
    "input = '''#\n",
    "A 462,463,464 1,2,3 TUTORIAL/GLYCAN_LIBRARY/Man5.pdb TUTORIAL/GLYCAN_LIBRARY/Man5_dt1000.xtc A_463.pdb A_463.xtc\n",
    "A 491,492,493 1,2,3 TUTORIAL/GLYCAN_LIBRARY/Man5.pdb TUTORIAL/GLYCAN_LIBRARY/Man5_dt1000.xtc A_492.pdb A_492.xtc\n",
    "'''"
   ]
  },
  {
   "cell_type": "markdown",
   "id": "36cc18cc",
   "metadata": {},
   "source": [
    "TODO: \n",
    "* output file names A_463.pdb etc. are somehow bound to the protein chain, used later by glycoTRAJ. This should be fixed (prefix added automatically?)\n",
    "* sequon numbers 462,463,464 and 1,2,3 -> for this version it shoul be just the central number, the rest is used by an undocumented option.\n",
    "* Output should write into tmp_files, all of it.\n",
    "* There should be more glycans available, fetched from ZENODO upon creation of the environment on binder\n",
    "* Glycans should be defined as a dropdown.\n",
    "* Whole input file should be written by a form, not by hand"
   ]
  },
  {
   "cell_type": "code",
   "execution_count": 8,
   "id": "2a52f312",
   "metadata": {},
   "outputs": [],
   "source": [
    "path=\"./tmp_files/\""
   ]
  },
  {
   "cell_type": "code",
   "execution_count": 9,
   "id": "b2adeb5d",
   "metadata": {},
   "outputs": [],
   "source": [
    "with open(path+\"input_sugaring\",'w') as f:\n",
    "    f.write(input)\n"
   ]
  },
  {
   "cell_type": "markdown",
   "id": "ec1a4081",
   "metadata": {},
   "source": [
    "# GlycoSHIELD\n"
   ]
  },
  {
   "cell_type": "code",
   "execution_count": 10,
   "id": "a4f838b3",
   "metadata": {},
   "outputs": [],
   "source": [
    "from glycoshield.lib import glycoshield,glycotraj,glycosasa"
   ]
  },
  {
   "cell_type": "code",
   "execution_count": 11,
   "id": "9372a582",
   "metadata": {},
   "outputs": [],
   "source": [
    "pdbtraj=path+\"test_pdb.pdb\"\n",
    "pdbtrajframes=30\n",
    "\n",
    "gs = glycoshield(protpdb=path+'EC5.pdb',protxtc=None,inputfile=path+'input_sugaring',\n",
    "                 pdbtraj=pdbtraj,pdbtrajframes=pdbtrajframes)\n",
    "# gs = glycoshield(protpdb=path+'EC5.pdb',protxtc=path+\"EC5_trj.pdb\",inputfile=path+'input_sugaring')"
   ]
  },
  {
   "cell_type": "code",
   "execution_count": 12,
   "id": "34cbfb09",
   "metadata": {},
   "outputs": [
    {
     "name": "stderr",
     "output_type": "stream",
     "text": [
      "Structure 0 residue 463: 100%|██████████| 3001/3001 [00:01<00:00, 2584.29it/s]\n",
      "Structure 0 residue 492: 100%|██████████| 3001/3001 [00:01<00:00, 2870.35it/s]\n"
     ]
    },
    {
     "name": "stdout",
     "output_type": "stream",
     "text": [
      "0 2619 1172\n",
      "[[2619 1172]]\n"
     ]
    }
   ],
   "source": [
    "occ=gs.run()\n",
    "print(occ)"
   ]
  },
  {
   "cell_type": "markdown",
   "id": "01b17ba4",
   "metadata": {},
   "source": [
    "## GlycoTRAJ"
   ]
  },
  {
   "cell_type": "code",
   "execution_count": 13,
   "id": "06463239",
   "metadata": {},
   "outputs": [
    {
     "name": "stdout",
     "output_type": "stream",
     "text": [
      "A 463\n",
      "A 492\n"
     ]
    }
   ],
   "source": [
    "maxframe=np.min(occ[0])\n",
    "# Should deal with protein with xtc files separately but we dont need this functionality on the webapp\n",
    "pdblist=gs.pdblist\n",
    "xtclist=gs.xtclist\n",
    "chainlist=gs.chainlist\n",
    "reslist=gs.reslist\n",
    "outname=path+\"merged_traj\"\n",
    "pdbtraj=path+\"test_merged_pdb.pdb\"\n",
    "pdbtrajframes=30\n",
    "glycotraj(maxframe,outname,pdblist,xtclist,chainlist,reslist,pdbtraj,pdbtrajframes)"
   ]
  },
  {
   "cell_type": "markdown",
   "id": "82133649",
   "metadata": {},
   "source": [
    "The merged trajectory (full) in xtc format and pdb trajectory trimmed to 'pdbtrajframes' first frames are in the tmp_files folder for the user to check/download"
   ]
  },
  {
   "cell_type": "markdown",
   "id": "21e80ce3",
   "metadata": {},
   "source": [
    "## GlycoSASA"
   ]
  },
  {
   "cell_type": "code",
   "execution_count": 14,
   "id": "14ac1429",
   "metadata": {},
   "outputs": [
    {
     "ename": "BaseException",
     "evalue": "Gromacs not found or not working, stopping...",
     "output_type": "error",
     "traceback": [
      "\u001b[0;31m---------------------------------------------------------------------------\u001b[0m",
      "\u001b[0;31mFileNotFoundError\u001b[0m                         Traceback (most recent call last)",
      "\u001b[0;32m~/unison.direct/mpcdf/Biophysics/GlycoSHIELD-MD-GitHub-GitLab.git/glycoshield/lib.py\u001b[0m in \u001b[0;36mGMXTEST\u001b[0;34m()\u001b[0m\n\u001b[1;32m    490\u001b[0m     \u001b[0;32mtry\u001b[0m\u001b[0;34m:\u001b[0m\u001b[0;34m\u001b[0m\u001b[0;34m\u001b[0m\u001b[0m\n\u001b[0;32m--> 491\u001b[0;31m        \u001b[0mproc\u001b[0m \u001b[0;34m=\u001b[0m \u001b[0msubprocess\u001b[0m\u001b[0;34m.\u001b[0m\u001b[0mPopen\u001b[0m\u001b[0;34m(\u001b[0m\u001b[0mcommand\u001b[0m\u001b[0;34m,\u001b[0m \u001b[0mstdout\u001b[0m \u001b[0;34m=\u001b[0m \u001b[0msubprocess\u001b[0m\u001b[0;34m.\u001b[0m\u001b[0mPIPE\u001b[0m\u001b[0;34m,\u001b[0m\u001b[0mstderr\u001b[0m\u001b[0;34m=\u001b[0m\u001b[0msubprocess\u001b[0m\u001b[0;34m.\u001b[0m\u001b[0mPIPE\u001b[0m\u001b[0;34m)\u001b[0m\u001b[0;34m\u001b[0m\u001b[0;34m\u001b[0m\u001b[0m\n\u001b[0m\u001b[1;32m    492\u001b[0m     \u001b[0;32mexcept\u001b[0m\u001b[0;34m:\u001b[0m\u001b[0;34m\u001b[0m\u001b[0;34m\u001b[0m\u001b[0m\n",
      "\u001b[0;32m/opt/apps/anaconda/3/2021.05/lib/python3.8/subprocess.py\u001b[0m in \u001b[0;36m__init__\u001b[0;34m(self, args, bufsize, executable, stdin, stdout, stderr, preexec_fn, close_fds, shell, cwd, env, universal_newlines, startupinfo, creationflags, restore_signals, start_new_session, pass_fds, encoding, errors, text)\u001b[0m\n\u001b[1;32m    857\u001b[0m \u001b[0;34m\u001b[0m\u001b[0m\n\u001b[0;32m--> 858\u001b[0;31m             self._execute_child(args, executable, preexec_fn, close_fds,\n\u001b[0m\u001b[1;32m    859\u001b[0m                                 \u001b[0mpass_fds\u001b[0m\u001b[0;34m,\u001b[0m \u001b[0mcwd\u001b[0m\u001b[0;34m,\u001b[0m \u001b[0menv\u001b[0m\u001b[0;34m,\u001b[0m\u001b[0;34m\u001b[0m\u001b[0;34m\u001b[0m\u001b[0m\n",
      "\u001b[0;32m/opt/apps/anaconda/3/2021.05/lib/python3.8/subprocess.py\u001b[0m in \u001b[0;36m_execute_child\u001b[0;34m(self, args, executable, preexec_fn, close_fds, pass_fds, cwd, env, startupinfo, creationflags, shell, p2cread, p2cwrite, c2pread, c2pwrite, errread, errwrite, restore_signals, start_new_session)\u001b[0m\n\u001b[1;32m   1705\u001b[0m                         \u001b[0merr_msg\u001b[0m \u001b[0;34m=\u001b[0m \u001b[0mos\u001b[0m\u001b[0;34m.\u001b[0m\u001b[0mstrerror\u001b[0m\u001b[0;34m(\u001b[0m\u001b[0merrno_num\u001b[0m\u001b[0;34m)\u001b[0m\u001b[0;34m\u001b[0m\u001b[0;34m\u001b[0m\u001b[0m\n\u001b[0;32m-> 1706\u001b[0;31m                     \u001b[0;32mraise\u001b[0m \u001b[0mchild_exception_type\u001b[0m\u001b[0;34m(\u001b[0m\u001b[0merrno_num\u001b[0m\u001b[0;34m,\u001b[0m \u001b[0merr_msg\u001b[0m\u001b[0;34m,\u001b[0m \u001b[0merr_filename\u001b[0m\u001b[0;34m)\u001b[0m\u001b[0;34m\u001b[0m\u001b[0;34m\u001b[0m\u001b[0m\n\u001b[0m\u001b[1;32m   1707\u001b[0m                 \u001b[0;32mraise\u001b[0m \u001b[0mchild_exception_type\u001b[0m\u001b[0;34m(\u001b[0m\u001b[0merr_msg\u001b[0m\u001b[0;34m)\u001b[0m\u001b[0;34m\u001b[0m\u001b[0;34m\u001b[0m\u001b[0m\n",
      "\u001b[0;31mFileNotFoundError\u001b[0m: [Errno 2] No such file or directory: 'gmx'",
      "\nDuring handling of the above exception, another exception occurred:\n",
      "\u001b[0;31mBaseException\u001b[0m                             Traceback (most recent call last)",
      "\u001b[0;32m<ipython-input-14-cc48d0502a0c>\u001b[0m in \u001b[0;36m<module>\u001b[0;34m\u001b[0m\n\u001b[1;32m      9\u001b[0m \u001b[0mkeepoutput\u001b[0m\u001b[0;34m=\u001b[0m\u001b[0;32mFalse\u001b[0m\u001b[0;34m\u001b[0m\u001b[0;34m\u001b[0m\u001b[0m\n\u001b[1;32m     10\u001b[0m \u001b[0;34m\u001b[0m\u001b[0m\n\u001b[0;32m---> 11\u001b[0;31m sasas = glycosasa(pdblist=pdblist,xtclist=xtclist,plottrace=plottrace,\n\u001b[0m\u001b[1;32m     12\u001b[0m           probelist=probelist,ndots=ndots,mode=mode,keepoutput=keepoutput,maxframe=maxframe)\n",
      "\u001b[0;32m~/unison.direct/mpcdf/Biophysics/GlycoSHIELD-MD-GitHub-GitLab.git/glycoshield/lib.py\u001b[0m in \u001b[0;36mglycosasa\u001b[0;34m(pdblist, xtclist, plottrace, probelist, ndots, mode, keepoutput, maxframe)\u001b[0m\n\u001b[1;32m    504\u001b[0m \u001b[0;32mdef\u001b[0m \u001b[0mglycosasa\u001b[0m\u001b[0;34m(\u001b[0m\u001b[0mpdblist\u001b[0m\u001b[0;34m,\u001b[0m\u001b[0mxtclist\u001b[0m\u001b[0;34m,\u001b[0m\u001b[0mplottrace\u001b[0m\u001b[0;34m,\u001b[0m\u001b[0mprobelist\u001b[0m\u001b[0;34m,\u001b[0m\u001b[0mndots\u001b[0m\u001b[0;34m,\u001b[0m\u001b[0mmode\u001b[0m\u001b[0;34m,\u001b[0m\u001b[0mkeepoutput\u001b[0m\u001b[0;34m,\u001b[0m\u001b[0mmaxframe\u001b[0m\u001b[0;34m)\u001b[0m\u001b[0;34m:\u001b[0m\u001b[0;34m\u001b[0m\u001b[0;34m\u001b[0m\u001b[0m\n\u001b[1;32m    505\u001b[0m    \u001b[0;31m# GMX required, test if present\u001b[0m\u001b[0;34m\u001b[0m\u001b[0;34m\u001b[0m\u001b[0;34m\u001b[0m\u001b[0m\n\u001b[0;32m--> 506\u001b[0;31m    \u001b[0mGMXTEST\u001b[0m\u001b[0;34m(\u001b[0m\u001b[0;34m)\u001b[0m\u001b[0;34m\u001b[0m\u001b[0;34m\u001b[0m\u001b[0m\n\u001b[0m\u001b[1;32m    507\u001b[0m    \u001b[0;31m# Assumption is there is only a protein in the pdb file.\u001b[0m\u001b[0;34m\u001b[0m\u001b[0;34m\u001b[0m\u001b[0;34m\u001b[0m\u001b[0m\n\u001b[1;32m    508\u001b[0m    \u001b[0;31m# Everything else assumed to be a glycan.\u001b[0m\u001b[0;34m\u001b[0m\u001b[0;34m\u001b[0m\u001b[0;34m\u001b[0m\u001b[0m\n",
      "\u001b[0;32m~/unison.direct/mpcdf/Biophysics/GlycoSHIELD-MD-GitHub-GitLab.git/glycoshield/lib.py\u001b[0m in \u001b[0;36mGMXTEST\u001b[0;34m()\u001b[0m\n\u001b[1;32m    491\u001b[0m        \u001b[0mproc\u001b[0m \u001b[0;34m=\u001b[0m \u001b[0msubprocess\u001b[0m\u001b[0;34m.\u001b[0m\u001b[0mPopen\u001b[0m\u001b[0;34m(\u001b[0m\u001b[0mcommand\u001b[0m\u001b[0;34m,\u001b[0m \u001b[0mstdout\u001b[0m \u001b[0;34m=\u001b[0m \u001b[0msubprocess\u001b[0m\u001b[0;34m.\u001b[0m\u001b[0mPIPE\u001b[0m\u001b[0;34m,\u001b[0m\u001b[0mstderr\u001b[0m\u001b[0;34m=\u001b[0m\u001b[0msubprocess\u001b[0m\u001b[0;34m.\u001b[0m\u001b[0mPIPE\u001b[0m\u001b[0;34m)\u001b[0m\u001b[0;34m\u001b[0m\u001b[0;34m\u001b[0m\u001b[0m\n\u001b[1;32m    492\u001b[0m     \u001b[0;32mexcept\u001b[0m\u001b[0;34m:\u001b[0m\u001b[0;34m\u001b[0m\u001b[0;34m\u001b[0m\u001b[0m\n\u001b[0;32m--> 493\u001b[0;31m        \u001b[0;32mraise\u001b[0m \u001b[0mBaseException\u001b[0m\u001b[0;34m(\u001b[0m\u001b[0;34m\"Gromacs not found or not working, stopping...\"\u001b[0m\u001b[0;34m)\u001b[0m\u001b[0;34m\u001b[0m\u001b[0;34m\u001b[0m\u001b[0m\n\u001b[0m\u001b[1;32m    494\u001b[0m     \u001b[0mout\u001b[0m\u001b[0;34m=\u001b[0m\u001b[0;34m[\u001b[0m\u001b[0mi\u001b[0m \u001b[0;32mfor\u001b[0m \u001b[0mi\u001b[0m \u001b[0;32min\u001b[0m \u001b[0mproc\u001b[0m\u001b[0;34m.\u001b[0m\u001b[0mstdout\u001b[0m\u001b[0;34m]\u001b[0m\u001b[0;34m\u001b[0m\u001b[0;34m\u001b[0m\u001b[0m\n\u001b[1;32m    495\u001b[0m     \u001b[0merr\u001b[0m\u001b[0;34m=\u001b[0m\u001b[0;34m[\u001b[0m\u001b[0mi\u001b[0m \u001b[0;32mfor\u001b[0m \u001b[0mi\u001b[0m \u001b[0;32min\u001b[0m \u001b[0mproc\u001b[0m\u001b[0;34m.\u001b[0m\u001b[0mstderr\u001b[0m\u001b[0;34m]\u001b[0m\u001b[0;34m\u001b[0m\u001b[0;34m\u001b[0m\u001b[0m\n",
      "\u001b[0;31mBaseException\u001b[0m: Gromacs not found or not working, stopping..."
     ]
    }
   ],
   "source": [
    "maxframe=np.min(occ[0])\n",
    "maxframe=10 # temporary\n",
    "pdblist=gs.pdblist\n",
    "xtclist=gs.xtclist\n",
    "probelist=[0.14,0.70] # Possibly user will have an option to choose one value, makes it faster and easier to manage visualisation\n",
    "plottrace=True\n",
    "ndots=15\n",
    "mode=\"max\"\n",
    "keepoutput=False\n",
    "\n",
    "sasas = glycosasa(pdblist=pdblist,xtclist=xtclist,plottrace=plottrace,\n",
    "          probelist=probelist,ndots=ndots,mode=mode,keepoutput=keepoutput,maxframe=maxframe)"
   ]
  },
  {
   "cell_type": "code",
   "execution_count": 304,
   "id": "c150785a",
   "metadata": {},
   "outputs": [],
   "source": []
  },
  {
   "cell_type": "code",
   "execution_count": 351,
   "id": "2c82e84a",
   "metadata": {},
   "outputs": [
    {
     "data": {
      "application/vnd.jupyter.widget-view+json": {
       "model_id": "20685a85ff1d4fd39d0fa927c2e6dd9c",
       "version_major": 2,
       "version_minor": 0
      },
      "text/plain": [
       "NGLWidget()"
      ]
     },
     "metadata": {},
     "output_type": "display_data"
    }
   ],
   "source": [
    "from glycoshield.NGL import NGLSASA\n",
    "sasas=np.array(sasas)\n",
    "\n",
    "myprobe=0.70\n",
    "occupancy=sasas[sasas[:,4]==myprobe][0,5]\n",
    "residues=sasas[sasas[:,4]==myprobe][0,0]\n",
    "sasavis=NGLSASA(path=\"./\",pdbfile='maxResidueSASA_probe_{}.pdb'.format(myprobe),occupancy=occupancy,residues=residues)\n",
    "v1=sasavis.build_representation()\n",
    "v1"
   ]
  },
  {
   "cell_type": "markdown",
   "id": "e2c365da",
   "metadata": {},
   "source": [
    "End of SASA visualization."
   ]
  },
  {
   "cell_type": "code",
   "execution_count": null,
   "id": "f0bd46f1",
   "metadata": {},
   "outputs": [],
   "source": []
  },
  {
   "cell_type": "code",
   "execution_count": 109,
   "id": "d69a0b1a",
   "metadata": {},
   "outputs": [],
   "source": [
    "class GSwidgets:\n",
    "    def __init__(self):\n",
    "        self.chains=[\"A\",\"B\",\"C\"] # read out by mdanalysis\n",
    "        self.residues=[1,2,3] # unique of all resids in the pdb file\n",
    "        self.known_sugars=[\"Man5\"] # Defined by the table in SI\n",
    "        \n",
    "    def create_chain_button(self):\n",
    "        chain = widgets.Dropdown(\n",
    "            options=self.chains,\n",
    "            value=self.chains[0],\n",
    "            description='Chain:',\n",
    "            disabled=False,\n",
    "            continuous_update=True,\n",
    "        )\n",
    "        return chain\n",
    "    def create_residue_button(self):\n",
    "        residue = widgets.Dropdown(\n",
    "            options=self.residues,\n",
    "            value=self.residues[0],\n",
    "            description='Residue:',\n",
    "            disabled=False,\n",
    "            continuous_update=True,\n",
    "        )\n",
    "    def create_glycan_button(self):\n",
    "        sugar = widgets.Dropdown(\n",
    "            options=self.known_sugars,\n",
    "            value=self.known_sugars[0],\n",
    "            description='Glycan:',\n",
    "            disabled=False,\n",
    "            continuous_update=True,\n",
    "        )\n",
    "        return sugar\n",
    "    \n",
    "    def create_sampling_button(self):\n",
    "        sampling = widgets.Dropdown(\n",
    "            options=[200,1000],\n",
    "            value=1000,\n",
    "            description='Sampling:',\n",
    "            disabled=False,\n",
    "            continuous_update=True,\n",
    "        )\n",
    "        return sampling\n",
    " \n"
   ]
  },
  {
   "cell_type": "code",
   "execution_count": 110,
   "id": "ea909ab8",
   "metadata": {},
   "outputs": [
    {
     "data": {
      "application/vnd.jupyter.widget-view+json": {
       "model_id": "dea0261efd044b57b2caff301b13b7c8",
       "version_major": 2,
       "version_minor": 0
      },
      "text/plain": [
       "HBox(children=(Text(value='', description='How many sugars to add:'), Button(description='OK', style=ButtonSty…"
      ]
     },
     "metadata": {},
     "output_type": "display_data"
    }
   ],
   "source": [
    "# Here the idea will be to dynamically create user input fields. Either user selects No of sugars or there is a \"add sugar\" button. Either way it dynamically creates N rows of input fields\n",
    "\n",
    "wg=GSwidgets()\n",
    "button = widgets.Button(description=\"OK\")\n",
    "inp = widgets.Text(description='How many sugars to add:')\n",
    "Box = widgets.HBox([inp,button])\n",
    "\n",
    "def on_button_clicked(b):\n",
    "    boxes=[]\n",
    "    for sugar in range(int(inp.value)):\n",
    "        b=wg.create_chain_button()\n",
    "        boxes.append(HBox([b]))\n",
    "    VBox(boxes)\n",
    "button.on_click(on_button_clicked)\n",
    "Box\n",
    "# Ideas:\n",
    "# https://stackoverflow.com/questions/37144216/ipywidgets-update-one-widget-based-on-results-from-another"
   ]
  },
  {
   "cell_type": "code",
   "execution_count": null,
   "id": "9aa0533c",
   "metadata": {},
   "outputs": [],
   "source": []
  },
  {
   "cell_type": "code",
   "execution_count": 111,
   "id": "dbd9b663",
   "metadata": {},
   "outputs": [
    {
     "data": {
      "application/vnd.jupyter.widget-view+json": {
       "model_id": "e7e1c5c7ebf646469e8d4fd7dc82dba4",
       "version_major": 2,
       "version_minor": 0
      },
      "text/plain": [
       "HBox(children=(Button(description='Click Me!', style=ButtonStyle()), Text(value='', description='text:')))"
      ]
     },
     "metadata": {},
     "output_type": "display_data"
    },
    {
     "name": "stdout",
     "output_type": "stream",
     "text": [
      "['']\n"
     ]
    }
   ],
   "source": [
    "button = widgets.Button(description=\"Click Me!\")\n",
    "inp = widgets.Text(description='text:')\n",
    "Box = widgets.HBox([button,inp])\n",
    "\n",
    "value_list = []\n",
    "\n",
    "def on_button_clicked(b):\n",
    "    value_list.append(inp.value)\n",
    "    print(value_list)\n",
    "\n",
    "button.on_click(on_button_clicked)\n",
    "Box"
   ]
  },
  {
   "cell_type": "code",
   "execution_count": 34,
   "id": "afdbc484",
   "metadata": {},
   "outputs": [
    {
     "data": {
      "application/vnd.jupyter.widget-view+json": {
       "model_id": "577505782c364adbb46d5760c9d4d970",
       "version_major": 2,
       "version_minor": 0
      },
      "text/plain": [
       "VBox(children=(HBox(children=(Dropdown(description='Chain:', options=('A', 'B', 'C'), value='A'), Dropdown(des…"
      ]
     },
     "metadata": {},
     "output_type": "display_data"
    }
   ],
   "source": [
    "VBox([HBox([chain,residue,sugar,sampling]),HBox([chain,residue,sugar,sampling])])\n"
   ]
  },
  {
   "cell_type": "code",
   "execution_count": null,
   "id": "22291819",
   "metadata": {},
   "outputs": [],
   "source": [
    "# glycoshield including gmx computation ...\n",
    "\n"
   ]
  },
  {
   "cell_type": "markdown",
   "id": "872807aa",
   "metadata": {},
   "source": [
    "## Visualization"
   ]
  },
  {
   "cell_type": "code",
   "execution_count": 7,
   "id": "3546a71f",
   "metadata": {},
   "outputs": [
    {
     "data": {
      "application/vnd.jupyter.widget-view+json": {
       "model_id": "ddf47e7e7d5e4383ac5ab54c2dd2f1dc",
       "version_major": 2,
       "version_minor": 0
      },
      "text/plain": []
     },
     "metadata": {},
     "output_type": "display_data"
    },
    {
     "name": "stderr",
     "output_type": "stream",
     "text": [
      "/home/masikora/anaconda2/envs/my_root/lib/python3.7/site-packages/MDAnalysis/lib/mdamath.py:279: RuntimeWarning: invalid value encountered in double_scalars\n",
      "  alpha = np.rad2deg(np.arccos(np.dot(y, z) / (ly * lz)))\n",
      "/home/masikora/anaconda2/envs/my_root/lib/python3.7/site-packages/MDAnalysis/lib/mdamath.py:280: RuntimeWarning: invalid value encountered in double_scalars\n",
      "  beta = np.rad2deg(np.arccos(np.dot(x, z) / (lx * lz)))\n",
      "/home/masikora/anaconda2/envs/my_root/lib/python3.7/site-packages/MDAnalysis/lib/mdamath.py:281: RuntimeWarning: invalid value encountered in double_scalars\n",
      "  gamma = np.rad2deg(np.arccos(np.dot(x, y) / (lx * ly)))\n",
      "/home/masikora/anaconda2/envs/my_root/lib/python3.7/site-packages/MDAnalysis/coordinates/PDB.py:747: UserWarning: Unit cell dimensions not found. CRYST1 record set to unitary values.\n",
      "  warnings.warn(\"Unit cell dimensions not found. \"\n"
     ]
    }
   ],
   "source": [
    "# At the moment it uses preexisting files in the tmp_files folder\n",
    "\n",
    "from glycoshield.NGL import NGL\n",
    "path=\"./tmp_files/\"\n",
    "ngl=NGL(path=path)\n",
    "ngl.add_sugar(path+'S_463.pdb',path+'S_463.xtc',20)\n",
    "ngl.add_sugar(path+'S_492.pdb',path+'S_492.xtc',20)\n",
    "ngl.add_sugar(path+'S_533.pdb',path+'S_533.xtc',20)\n",
    "ngl.subsample()"
   ]
  },
  {
   "cell_type": "code",
   "execution_count": 8,
   "id": "58edd33f",
   "metadata": {},
   "outputs": [
    {
     "name": "stdout",
     "output_type": "stream",
     "text": [
      "#009392 1 A\n",
      "#687588 2 A\n",
      "#d0587e 3 A\n"
     ]
    },
    {
     "data": {
      "application/vnd.jupyter.widget-view+json": {
       "model_id": "ea33b7e382c54051b9d1b29bae86231d",
       "version_major": 2,
       "version_minor": 0
      },
      "text/plain": [
       "NGLWidget()"
      ]
     },
     "metadata": {},
     "output_type": "display_data"
    }
   ],
   "source": [
    "v1=ngl.build_representation()\n",
    "v1"
   ]
  },
  {
   "cell_type": "code",
   "execution_count": 21,
   "id": "f224a4a2",
   "metadata": {},
   "outputs": [
    {
     "name": "stdout",
     "output_type": "stream",
     "text": [
      "3.0.3 7.6.5\n"
     ]
    }
   ],
   "source": [
    "import nglview\n",
    "import ipywidgets\n",
    "print(nglview.__version__,ipywidgets.__version__)"
   ]
  },
  {
   "cell_type": "markdown",
   "id": "53c5fc8b",
   "metadata": {},
   "source": [
    "## Download of output files\n",
    "\n",
    "In the left sidebar of the JupyterLab GUI, please right-click the file you want to download and select *Download*."
   ]
  },
  {
   "cell_type": "code",
   "execution_count": 13,
   "id": "db96dd69",
   "metadata": {},
   "outputs": [],
   "source": [
    "# A solution to have download buttons:\n",
    "# https://stackoverflow.com/questions/61708701/how-to-download-a-file-using-ipywidget-button"
   ]
  }
 ],
 "metadata": {
  "kernelspec": {
   "display_name": "Python 3 (ipykernel)",
   "language": "python",
   "name": "python3"
  },
  "language_info": {
   "codemirror_mode": {
    "name": "ipython",
    "version": 3
   },
   "file_extension": ".py",
   "mimetype": "text/x-python",
   "name": "python",
   "nbconvert_exporter": "python",
   "pygments_lexer": "ipython3",
   "version": "3.8.12"
  }
 },
 "nbformat": 4,
 "nbformat_minor": 5
}
